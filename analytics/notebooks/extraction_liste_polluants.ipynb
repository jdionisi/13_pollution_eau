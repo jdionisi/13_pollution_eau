{
 "cells": [
  {
   "cell_type": "markdown",
   "metadata": {},
   "source": [
    "# Extraction de la liste des polluants"
   ]
  },
  {
   "cell_type": "markdown",
   "metadata": {},
   "source": [
    "### Context\n",
    "- Pour rappel, on exploite principalement une source de donnée qu'on appelle EDC, lire plus dans le wiki/outline. Les fichiers sont importés par l'équipe data eng dans la BDD duckdb, donc vous pouvez exploiter les tables directement. Il y a un notebook example.\n",
    "- Dans les spécifications du livrable, on dit qu'on va vouloir catégoriser les polluants qui apparaîtront sur la carte pour faciliter sa lecture\n",
    "    - cette catégorisation sera faite, ou à minima validée, par Générations Futures, car nécessite une expertise forte sur le sujet\n",
    "    - e.g., de catégories attendues : Pesticides et métabolites, PFAS, Nitrate, CVM (cf article du Monde et site ministère de la santé), HAP, résidus d’explosifs (pb majeur en région Nantaise par exemple), métaux lourds, Autres catégories à définir :médicaments, perchlorate (bcp d’appels de journalistes sur les perchlorate)\n",
    "- C'est une tâche exploratoire, plusieurs bénévoles peuvent travailler dessus car chaque personne va peut-être explorer le problème différemment. C'est OK! Faire un notebook par bénévole."
   ]
  },
  {
   "cell_type": "markdown",
   "metadata": {},
   "source": [
    "### Tâche\n",
    "- extraire la liste des polluants recherchés dans les prélèvements\n",
    "- sortir des premières analyses de ces données\n",
    "    - disponibilité de la donnée\n",
    "        - couverture du territoire : pour chaque polluant, quelle est la part des UDI avec analyse de chaque polluant\n",
    "        - périodicité : pour chaque polluant, à quelle fréquence collecte-t-on\n",
    "    - visualisation sur carte de la donnée pour chaque polluant. (obj : avoir une idée de la distribution, des valeurs min max etc)\n",
    "    - c'est peut-être too much, analyse des polluants par seuils de dépassement"
   ]
  },
  {
   "cell_type": "markdown",
   "metadata": {},
   "source": [
    "### Livrable\n",
    "- Notebook permettant de reproduire l'analyse / reproduire le fichier\n",
    "- Excel de résultats de l'exploration à partager à Pauline\n",
    "- Et partager vos infos sur Slack aux autres bénévoles data analysts (ne pas spam, donc faire un cours message puis détailler dans le thread)"
   ]
  },
  {
   "cell_type": "markdown",
   "metadata": {},
   "source": [
    "Si vous êtes perdu/débutant: Guide pour commencer sur la périodicité\n",
    "\n",
    "- Isoler les dates des prélèvements: compter le nb de prélèvements totaux par date (ex: le 01/01/2025 il y a eu X prélèvements sur l’ensemble du territoire)\n",
    "- Filtrer le nb de prélèvements par paramètre (ex: le 01/01/2025 le composé Y a été mesuré X fois)\n",
    "- Filtrer le nb de prélèvements par UDI (ex: le 01/01/2025 X prélèvements ont été effectués dans l’UDI Z)\n",
    "- Filtrer le nb de prélèvements par UDI et par paramètre (ex: le 01/01/2025 le composé Y a été mesuré X fois dans l’UDI Z)\n",
    "    - (a) Agréger les données des points précédents pour obtenir les infos par commune, par circonscription, par département puis par région (ex: le 01/01/2025 le composé Y a été mesuré X fois dans la commune W) - dépend des tâches précédentes\n",
    "    - (b) Agréger les données du point (a) pour obtenir les infos à l’échelle de la semaine, du mois ou de l’année. Le symbole / signifie “ou”. $$$ Fonction qui prend en argument le dataframe en sortie de (a) (version France, région, département ou commune), un chiffre donnant l’échelle géographique concernée (1: France, 2: Région, 3: Département, 4: Commune), un chiffre donnant l’échelle temporelle souhaitée (0: semaine, 1: mois, 2: année). La fonction retourne un dataframe avec les infos suivantes: le chiffre (1: France, 2: Région, 3: Département, 4: Commune), Rien/Numéro département/Numéro de Région/Code Postal de la commune, La semaine(Nombre de 1 à 52)/le Mois/l’année, cdparametre, Nombre de prélèvements sur la période $$$ - dépend des tâches précédentes\n",
    "- Afficher un Dashboard interactif à l’aide de l’outil Evidence qui permet de sélectionner une échelle géographique (France, Région, Département, Circonscription, Commune), une échelle temporelle (Année, Mois, Semaine) et un paramètre (Tous les paramètres OU Liste de chaque paramètre en toutes lettres) et affiche le nombre de prélèvements effectués (calendrier avec une échelle de couleur selon le nombre de prélèvements?)"
   ]
  },
  {
   "cell_type": "markdown",
   "metadata": {},
   "source": [
    "#### Chargement de la base"
   ]
  },
  {
   "cell_type": "code",
   "execution_count": 28,
   "metadata": {},
   "outputs": [],
   "source": [
    "import matplotlib.pyplot as plt\n",
    "import pandas as pd"
   ]
  },
  {
   "cell_type": "code",
   "execution_count": 1,
   "metadata": {},
   "outputs": [],
   "source": [
    "import duckdb\n",
    "\n",
    "con = duckdb.connect(database=\"./../../database/data.duckdb\", read_only=True)"
   ]
  },
  {
   "cell_type": "code",
   "execution_count": 9,
   "metadata": {},
   "outputs": [
    {
     "name": "stderr",
     "output_type": "stream",
     "text": [
      "c:\\Users\\Victor\\Documents\\Jeanne\\DataForGood\\13_pollution_eau\\.venv\\Lib\\site-packages\\sql\\parse.py:338: SyntaxWarning: invalid escape sequence '\\:'\n",
      "  \"\"\"\n",
      "c:\\Users\\Victor\\Documents\\Jeanne\\DataForGood\\13_pollution_eau\\.venv\\Lib\\site-packages\\sql\\parse.py:368: SyntaxWarning: invalid escape sequence '\\:'\n",
      "  \"\"\"\n",
      "Matplotlib is building the font cache; this may take a moment.\n"
     ]
    },
    {
     "data": {
      "text/html": [
       "<span style=\"None\">The &#x27;toml&#x27; package isn&#x27;t installed. To load settings from pyproject.toml or ~/.jupysql/config, install with: pip install toml</span>"
      ],
      "text/plain": [
       "The 'toml' package isn't installed. To load settings from pyproject.toml or ~/.jupysql/config, install with: pip install toml"
      ]
     },
     "metadata": {},
     "output_type": "display_data"
    },
    {
     "name": "stderr",
     "output_type": "stream",
     "text": [
      "RuntimeError: (duckdb.duckdb.IOException) IO Error: File is already open in \n",
      "C:\\Users\\Victor\\AppData\\Local\\Programs\\Python\\Python312\\python.exe (PID 11072)\n",
      "(Background on this error at: https://sqlalche.me/e/20/e3q8)\n",
      "If you need help solving this issue, send us a message: https://ploomber.io/community\n"
     ]
    }
   ],
   "source": [
    "# Maintenant configurons l'extension SQL pour Jupyter...\n",
    "\n",
    "%load_ext sql\n",
    "%sql duckdb:///../../database/data.duckdb"
   ]
  },
  {
   "cell_type": "markdown",
   "metadata": {},
   "source": [
    "Tables disponibles : \n",
    "\n",
    "*Le lien entre le fichier des prélèvements (PLV) et celui des résultats d’analyse (RESULT) se fait par l’intermédiaire du code du prélèvement (champ ‘referenceprel’). Le fichier UDI_COM détaille le lien entre UDI et communes et permet de pouvoir reconstituer un accès aux résultats par commune ; il est relié au fichier PLV par l’intermédiaire du champ ‘cdreseau’, correspondant au code SISE-Eaux de l’unité de distribution.*"
   ]
  },
  {
   "cell_type": "code",
   "execution_count": 2,
   "metadata": {},
   "outputs": [
    {
     "data": {
      "application/vnd.jupyter.widget-view+json": {
       "model_id": "4bf29874dea64561aec14c40bb6add29",
       "version_major": 2,
       "version_minor": 0
      },
      "text/plain": [
       "FloatProgress(value=0.0, layout=Layout(width='auto'), style=ProgressStyle(bar_color='black'))"
      ]
     },
     "metadata": {},
     "output_type": "display_data"
    },
    {
     "data": {
      "text/html": [
       "<div>\n",
       "<style scoped>\n",
       "    .dataframe tbody tr th:only-of-type {\n",
       "        vertical-align: middle;\n",
       "    }\n",
       "\n",
       "    .dataframe tbody tr th {\n",
       "        vertical-align: top;\n",
       "    }\n",
       "\n",
       "    .dataframe thead th {\n",
       "        text-align: right;\n",
       "    }\n",
       "</style>\n",
       "<table border=\"1\" class=\"dataframe\">\n",
       "  <thead>\n",
       "    <tr style=\"text-align: right;\">\n",
       "      <th></th>\n",
       "      <th>name</th>\n",
       "    </tr>\n",
       "  </thead>\n",
       "  <tbody>\n",
       "    <tr>\n",
       "      <th>0</th>\n",
       "      <td>sise_communes</td>\n",
       "    </tr>\n",
       "    <tr>\n",
       "      <th>1</th>\n",
       "      <td>sise_prelevements</td>\n",
       "    </tr>\n",
       "    <tr>\n",
       "      <th>2</th>\n",
       "      <td>sise_resultats</td>\n",
       "    </tr>\n",
       "  </tbody>\n",
       "</table>\n",
       "</div>"
      ],
      "text/plain": [
       "                name\n",
       "0      sise_communes\n",
       "1  sise_prelevements\n",
       "2     sise_resultats"
      ]
     },
     "execution_count": 2,
     "metadata": {},
     "output_type": "execute_result"
    }
   ],
   "source": [
    "con.execute(\"SHOW TABLES\").df()"
   ]
  },
  {
   "cell_type": "code",
   "execution_count": 3,
   "metadata": {},
   "outputs": [
    {
     "name": "stdout",
     "output_type": "stream",
     "text": [
      "inseecommune            object\n",
      "nomcommune              object\n",
      "quartier                object\n",
      "cdreseau                object\n",
      "nomreseau               object\n",
      "debutalim       datetime64[us]\n",
      "dtype: object\n"
     ]
    }
   ],
   "source": [
    "var_communes = con.sql(\"SELECT * FROM sise_communes;\").df()\n",
    "print(var_communes.dtypes)"
   ]
  },
  {
   "cell_type": "code",
   "execution_count": 4,
   "metadata": {},
   "outputs": [
    {
     "data": {
      "text/html": [
       "<div>\n",
       "<style scoped>\n",
       "    .dataframe tbody tr th:only-of-type {\n",
       "        vertical-align: middle;\n",
       "    }\n",
       "\n",
       "    .dataframe tbody tr th {\n",
       "        vertical-align: top;\n",
       "    }\n",
       "\n",
       "    .dataframe thead th {\n",
       "        text-align: right;\n",
       "    }\n",
       "</style>\n",
       "<table border=\"1\" class=\"dataframe\">\n",
       "  <thead>\n",
       "    <tr style=\"text-align: right;\">\n",
       "      <th></th>\n",
       "      <th>inseecommune</th>\n",
       "      <th>nomcommune</th>\n",
       "      <th>quartier</th>\n",
       "      <th>cdreseau</th>\n",
       "      <th>nomreseau</th>\n",
       "      <th>debutalim</th>\n",
       "    </tr>\n",
       "  </thead>\n",
       "  <tbody>\n",
       "    <tr>\n",
       "      <th>0</th>\n",
       "      <td>01001</td>\n",
       "      <td>ABERGEMENT-CLEMENCIAT (L')</td>\n",
       "      <td>-</td>\n",
       "      <td>001000556</td>\n",
       "      <td>BDS ST DIDIER/CHALARONNE</td>\n",
       "      <td>2010-09-07</td>\n",
       "    </tr>\n",
       "    <tr>\n",
       "      <th>1</th>\n",
       "      <td>01002</td>\n",
       "      <td>ABERGEMENT-DE-VAREY (L')</td>\n",
       "      <td>-</td>\n",
       "      <td>001000369</td>\n",
       "      <td>L'ABERGEMENT-DE-VAREY</td>\n",
       "      <td>2010-09-07</td>\n",
       "    </tr>\n",
       "    <tr>\n",
       "      <th>2</th>\n",
       "      <td>01004</td>\n",
       "      <td>AMBERIEU-EN-BUGEY</td>\n",
       "      <td>Vareilles</td>\n",
       "      <td>001000248</td>\n",
       "      <td>AMBERIEU VAREILLES</td>\n",
       "      <td>2010-09-07</td>\n",
       "    </tr>\n",
       "    <tr>\n",
       "      <th>3</th>\n",
       "      <td>01004</td>\n",
       "      <td>AMBERIEU-EN-BUGEY</td>\n",
       "      <td>St Germain_Brédevent</td>\n",
       "      <td>001000249</td>\n",
       "      <td>AMBERIEU SAINT GERMAIN DOUVRES</td>\n",
       "      <td>2010-09-07</td>\n",
       "    </tr>\n",
       "    <tr>\n",
       "      <th>4</th>\n",
       "      <td>01004</td>\n",
       "      <td>AMBERIEU-EN-BUGEY</td>\n",
       "      <td>ville</td>\n",
       "      <td>001000251</td>\n",
       "      <td>AMBERIEU VILLE</td>\n",
       "      <td>2010-09-07</td>\n",
       "    </tr>\n",
       "  </tbody>\n",
       "</table>\n",
       "</div>"
      ],
      "text/plain": [
       "  inseecommune                  nomcommune              quartier   cdreseau  \\\n",
       "0        01001  ABERGEMENT-CLEMENCIAT (L')                     -  001000556   \n",
       "1        01002    ABERGEMENT-DE-VAREY (L')                     -  001000369   \n",
       "2        01004           AMBERIEU-EN-BUGEY             Vareilles  001000248   \n",
       "3        01004           AMBERIEU-EN-BUGEY  St Germain_Brédevent  001000249   \n",
       "4        01004           AMBERIEU-EN-BUGEY                 ville  001000251   \n",
       "\n",
       "                        nomreseau  debutalim  \n",
       "0        BDS ST DIDIER/CHALARONNE 2010-09-07  \n",
       "1           L'ABERGEMENT-DE-VAREY 2010-09-07  \n",
       "2              AMBERIEU VAREILLES 2010-09-07  \n",
       "3  AMBERIEU SAINT GERMAIN DOUVRES 2010-09-07  \n",
       "4                  AMBERIEU VILLE 2010-09-07  "
      ]
     },
     "execution_count": 4,
     "metadata": {},
     "output_type": "execute_result"
    }
   ],
   "source": [
    "con.table(\"sise_communes\").df().head(5)"
   ]
  },
  {
   "cell_type": "code",
   "execution_count": 5,
   "metadata": {},
   "outputs": [
    {
     "name": "stdout",
     "output_type": "stream",
     "text": [
      "cddept                                object\n",
      "cdreseau                              object\n",
      "inseecommuneprinc                     object\n",
      "nomcommuneprinc                       object\n",
      "cdreseauamont                         object\n",
      "nomreseauamont                        object\n",
      "pourcentdebit                         object\n",
      "referenceprel                         object\n",
      "dateprel                      datetime64[us]\n",
      "heureprel                             object\n",
      "conclusionprel                        object\n",
      "ugelib                                object\n",
      "distrlib                              object\n",
      "moalib                                object\n",
      "plvconformitebacterio                 object\n",
      "plvconformitechimique                 object\n",
      "plvconformitereferencebact            object\n",
      "plvconformitereferencechim            object\n",
      "dtype: object\n"
     ]
    }
   ],
   "source": [
    "var_prelevements = con.sql(\"SELECT * FROM sise_prelevements;\").df()\n",
    "print(var_prelevements.dtypes)"
   ]
  },
  {
   "cell_type": "code",
   "execution_count": 6,
   "metadata": {},
   "outputs": [
    {
     "data": {
      "text/html": [
       "<div>\n",
       "<style scoped>\n",
       "    .dataframe tbody tr th:only-of-type {\n",
       "        vertical-align: middle;\n",
       "    }\n",
       "\n",
       "    .dataframe tbody tr th {\n",
       "        vertical-align: top;\n",
       "    }\n",
       "\n",
       "    .dataframe thead th {\n",
       "        text-align: right;\n",
       "    }\n",
       "</style>\n",
       "<table border=\"1\" class=\"dataframe\">\n",
       "  <thead>\n",
       "    <tr style=\"text-align: right;\">\n",
       "      <th></th>\n",
       "      <th>cddept</th>\n",
       "      <th>cdreseau</th>\n",
       "      <th>inseecommuneprinc</th>\n",
       "      <th>nomcommuneprinc</th>\n",
       "      <th>cdreseauamont</th>\n",
       "      <th>nomreseauamont</th>\n",
       "      <th>pourcentdebit</th>\n",
       "      <th>referenceprel</th>\n",
       "      <th>dateprel</th>\n",
       "      <th>heureprel</th>\n",
       "      <th>conclusionprel</th>\n",
       "      <th>ugelib</th>\n",
       "      <th>distrlib</th>\n",
       "      <th>moalib</th>\n",
       "      <th>plvconformitebacterio</th>\n",
       "      <th>plvconformitechimique</th>\n",
       "      <th>plvconformitereferencebact</th>\n",
       "      <th>plvconformitereferencechim</th>\n",
       "    </tr>\n",
       "  </thead>\n",
       "  <tbody>\n",
       "    <tr>\n",
       "      <th>0</th>\n",
       "      <td>001</td>\n",
       "      <td>001000003</td>\n",
       "      <td>01007</td>\n",
       "      <td>AMBRONAY</td>\n",
       "      <td>None</td>\n",
       "      <td>None</td>\n",
       "      <td>None</td>\n",
       "      <td>00100139034</td>\n",
       "      <td>2024-01-23</td>\n",
       "      <td>11h27</td>\n",
       "      <td>Eau d'alimentation conforme aux limites de qua...</td>\n",
       "      <td>SI REGION D'AMBERIEU-EN-BUGEY</td>\n",
       "      <td>SIE REGION D'AMBERIEU-EN-BUGEY</td>\n",
       "      <td>SIE REGION D'AMBERIEU-EN-BUGEY</td>\n",
       "      <td>C</td>\n",
       "      <td>C</td>\n",
       "      <td>N</td>\n",
       "      <td>C</td>\n",
       "    </tr>\n",
       "    <tr>\n",
       "      <th>1</th>\n",
       "      <td>001</td>\n",
       "      <td>001000003</td>\n",
       "      <td>01007</td>\n",
       "      <td>AMBRONAY</td>\n",
       "      <td>None</td>\n",
       "      <td>None</td>\n",
       "      <td>None</td>\n",
       "      <td>00100139393</td>\n",
       "      <td>2024-02-13</td>\n",
       "      <td>12h49</td>\n",
       "      <td>Eau d'alimentation conforme aux exigences de q...</td>\n",
       "      <td>SI REGION D'AMBERIEU-EN-BUGEY</td>\n",
       "      <td>SIE REGION D'AMBERIEU-EN-BUGEY</td>\n",
       "      <td>SIE REGION D'AMBERIEU-EN-BUGEY</td>\n",
       "      <td>C</td>\n",
       "      <td>C</td>\n",
       "      <td>C</td>\n",
       "      <td>C</td>\n",
       "    </tr>\n",
       "    <tr>\n",
       "      <th>2</th>\n",
       "      <td>001</td>\n",
       "      <td>001000003</td>\n",
       "      <td>01007</td>\n",
       "      <td>AMBRONAY</td>\n",
       "      <td>001001304</td>\n",
       "      <td>TTP (CLG) AMBRONAY</td>\n",
       "      <td>100 %</td>\n",
       "      <td>00100139969</td>\n",
       "      <td>2024-03-13</td>\n",
       "      <td>10h46</td>\n",
       "      <td>Eau d'alimentation conforme aux exigences de q...</td>\n",
       "      <td>SI REGION D'AMBERIEU-EN-BUGEY</td>\n",
       "      <td>SIE REGION D'AMBERIEU-EN-BUGEY</td>\n",
       "      <td>SIE REGION D'AMBERIEU-EN-BUGEY</td>\n",
       "      <td>C</td>\n",
       "      <td>C</td>\n",
       "      <td>C</td>\n",
       "      <td>C</td>\n",
       "    </tr>\n",
       "    <tr>\n",
       "      <th>3</th>\n",
       "      <td>001</td>\n",
       "      <td>001000003</td>\n",
       "      <td>01007</td>\n",
       "      <td>AMBRONAY</td>\n",
       "      <td>None</td>\n",
       "      <td>None</td>\n",
       "      <td>None</td>\n",
       "      <td>00100140209</td>\n",
       "      <td>2024-04-05</td>\n",
       "      <td>07h27</td>\n",
       "      <td>Eau d'alimentation conforme aux exigences de q...</td>\n",
       "      <td>SI REGION D'AMBERIEU-EN-BUGEY</td>\n",
       "      <td>SIE REGION D'AMBERIEU-EN-BUGEY</td>\n",
       "      <td>SIE REGION D'AMBERIEU-EN-BUGEY</td>\n",
       "      <td>C</td>\n",
       "      <td>C</td>\n",
       "      <td>C</td>\n",
       "      <td>C</td>\n",
       "    </tr>\n",
       "    <tr>\n",
       "      <th>4</th>\n",
       "      <td>001</td>\n",
       "      <td>001000003</td>\n",
       "      <td>01007</td>\n",
       "      <td>AMBRONAY</td>\n",
       "      <td>None</td>\n",
       "      <td>None</td>\n",
       "      <td>None</td>\n",
       "      <td>00100140543</td>\n",
       "      <td>2024-05-13</td>\n",
       "      <td>12h43</td>\n",
       "      <td>Eau d'alimentation conforme aux exigences de q...</td>\n",
       "      <td>SI REGION D'AMBERIEU-EN-BUGEY</td>\n",
       "      <td>SIE REGION D'AMBERIEU-EN-BUGEY</td>\n",
       "      <td>SIE REGION D'AMBERIEU-EN-BUGEY</td>\n",
       "      <td>C</td>\n",
       "      <td>C</td>\n",
       "      <td>C</td>\n",
       "      <td>C</td>\n",
       "    </tr>\n",
       "  </tbody>\n",
       "</table>\n",
       "</div>"
      ],
      "text/plain": [
       "  cddept   cdreseau inseecommuneprinc nomcommuneprinc cdreseauamont  \\\n",
       "0    001  001000003             01007        AMBRONAY          None   \n",
       "1    001  001000003             01007        AMBRONAY          None   \n",
       "2    001  001000003             01007        AMBRONAY     001001304   \n",
       "3    001  001000003             01007        AMBRONAY          None   \n",
       "4    001  001000003             01007        AMBRONAY          None   \n",
       "\n",
       "       nomreseauamont pourcentdebit referenceprel   dateprel heureprel  \\\n",
       "0                None          None   00100139034 2024-01-23     11h27   \n",
       "1                None          None   00100139393 2024-02-13     12h49   \n",
       "2  TTP (CLG) AMBRONAY         100 %   00100139969 2024-03-13     10h46   \n",
       "3                None          None   00100140209 2024-04-05     07h27   \n",
       "4                None          None   00100140543 2024-05-13     12h43   \n",
       "\n",
       "                                      conclusionprel  \\\n",
       "0  Eau d'alimentation conforme aux limites de qua...   \n",
       "1  Eau d'alimentation conforme aux exigences de q...   \n",
       "2  Eau d'alimentation conforme aux exigences de q...   \n",
       "3  Eau d'alimentation conforme aux exigences de q...   \n",
       "4  Eau d'alimentation conforme aux exigences de q...   \n",
       "\n",
       "                          ugelib                        distrlib  \\\n",
       "0  SI REGION D'AMBERIEU-EN-BUGEY  SIE REGION D'AMBERIEU-EN-BUGEY   \n",
       "1  SI REGION D'AMBERIEU-EN-BUGEY  SIE REGION D'AMBERIEU-EN-BUGEY   \n",
       "2  SI REGION D'AMBERIEU-EN-BUGEY  SIE REGION D'AMBERIEU-EN-BUGEY   \n",
       "3  SI REGION D'AMBERIEU-EN-BUGEY  SIE REGION D'AMBERIEU-EN-BUGEY   \n",
       "4  SI REGION D'AMBERIEU-EN-BUGEY  SIE REGION D'AMBERIEU-EN-BUGEY   \n",
       "\n",
       "                           moalib plvconformitebacterio plvconformitechimique  \\\n",
       "0  SIE REGION D'AMBERIEU-EN-BUGEY                     C                     C   \n",
       "1  SIE REGION D'AMBERIEU-EN-BUGEY                     C                     C   \n",
       "2  SIE REGION D'AMBERIEU-EN-BUGEY                     C                     C   \n",
       "3  SIE REGION D'AMBERIEU-EN-BUGEY                     C                     C   \n",
       "4  SIE REGION D'AMBERIEU-EN-BUGEY                     C                     C   \n",
       "\n",
       "  plvconformitereferencebact plvconformitereferencechim  \n",
       "0                          N                          C  \n",
       "1                          C                          C  \n",
       "2                          C                          C  \n",
       "3                          C                          C  \n",
       "4                          C                          C  "
      ]
     },
     "execution_count": 6,
     "metadata": {},
     "output_type": "execute_result"
    }
   ],
   "source": [
    "con.table(\"sise_prelevements\").df().head(5)"
   ]
  },
  {
   "cell_type": "markdown",
   "metadata": {},
   "source": [
    "con.table(\"sise_resultats\").df().head(5)"
   ]
  },
  {
   "cell_type": "markdown",
   "metadata": {},
   "source": [
    "#### Passage des tables en dataframe"
   ]
  },
  {
   "cell_type": "code",
   "execution_count": 7,
   "metadata": {},
   "outputs": [],
   "source": [
    "communes = con.table(\"sise_communes\").to_df()"
   ]
  },
  {
   "cell_type": "code",
   "execution_count": 8,
   "metadata": {},
   "outputs": [],
   "source": [
    "prelevements = con.table(\"sise_prelevements\").to_df()"
   ]
  },
  {
   "cell_type": "markdown",
   "metadata": {},
   "source": [
    "Isoler les dates des prélèvements: compter le nb de prélèvements totaux par date (ex: le 01/01/2025 il y a eu X prélèvements sur l’ensemble du territoire)"
   ]
  },
  {
   "cell_type": "code",
   "execution_count": 21,
   "metadata": {},
   "outputs": [],
   "source": [
    "date_prlvmt = con.sql(\"\"\"\n",
    "    SELECT dateprel, COUNT(dateprel) as count\n",
    "    FROM sise_prelevements\n",
    "    GROUP BY dateprel\n",
    "\"\"\").df()"
   ]
  },
  {
   "cell_type": "code",
   "execution_count": 22,
   "metadata": {},
   "outputs": [
    {
     "data": {
      "text/html": [
       "<div>\n",
       "<style scoped>\n",
       "    .dataframe tbody tr th:only-of-type {\n",
       "        vertical-align: middle;\n",
       "    }\n",
       "\n",
       "    .dataframe tbody tr th {\n",
       "        vertical-align: top;\n",
       "    }\n",
       "\n",
       "    .dataframe thead th {\n",
       "        text-align: right;\n",
       "    }\n",
       "</style>\n",
       "<table border=\"1\" class=\"dataframe\">\n",
       "  <thead>\n",
       "    <tr style=\"text-align: right;\">\n",
       "      <th></th>\n",
       "      <th>dateprel</th>\n",
       "      <th>count</th>\n",
       "    </tr>\n",
       "  </thead>\n",
       "  <tbody>\n",
       "    <tr>\n",
       "      <th>0</th>\n",
       "      <td>2024-01-02</td>\n",
       "      <td>818</td>\n",
       "    </tr>\n",
       "    <tr>\n",
       "      <th>1</th>\n",
       "      <td>2024-01-03</td>\n",
       "      <td>1378</td>\n",
       "    </tr>\n",
       "    <tr>\n",
       "      <th>2</th>\n",
       "      <td>2024-01-04</td>\n",
       "      <td>1362</td>\n",
       "    </tr>\n",
       "    <tr>\n",
       "      <th>3</th>\n",
       "      <td>2024-01-05</td>\n",
       "      <td>887</td>\n",
       "    </tr>\n",
       "    <tr>\n",
       "      <th>4</th>\n",
       "      <td>2024-01-08</td>\n",
       "      <td>2087</td>\n",
       "    </tr>\n",
       "    <tr>\n",
       "      <th>...</th>\n",
       "      <td>...</td>\n",
       "      <td>...</td>\n",
       "    </tr>\n",
       "    <tr>\n",
       "      <th>264</th>\n",
       "      <td>2024-12-23</td>\n",
       "      <td>548</td>\n",
       "    </tr>\n",
       "    <tr>\n",
       "      <th>265</th>\n",
       "      <td>2024-12-24</td>\n",
       "      <td>177</td>\n",
       "    </tr>\n",
       "    <tr>\n",
       "      <th>266</th>\n",
       "      <td>2024-12-26</td>\n",
       "      <td>128</td>\n",
       "    </tr>\n",
       "    <tr>\n",
       "      <th>267</th>\n",
       "      <td>2024-12-27</td>\n",
       "      <td>88</td>\n",
       "    </tr>\n",
       "    <tr>\n",
       "      <th>268</th>\n",
       "      <td>2024-12-30</td>\n",
       "      <td>1</td>\n",
       "    </tr>\n",
       "  </tbody>\n",
       "</table>\n",
       "<p>269 rows × 2 columns</p>\n",
       "</div>"
      ],
      "text/plain": [
       "      dateprel  count\n",
       "0   2024-01-02    818\n",
       "1   2024-01-03   1378\n",
       "2   2024-01-04   1362\n",
       "3   2024-01-05    887\n",
       "4   2024-01-08   2087\n",
       "..         ...    ...\n",
       "264 2024-12-23    548\n",
       "265 2024-12-24    177\n",
       "266 2024-12-26    128\n",
       "267 2024-12-27     88\n",
       "268 2024-12-30      1\n",
       "\n",
       "[269 rows x 2 columns]"
      ]
     },
     "execution_count": 22,
     "metadata": {},
     "output_type": "execute_result"
    }
   ],
   "source": [
    "date_prlvmt"
   ]
  },
  {
   "cell_type": "code",
   "execution_count": 40,
   "metadata": {},
   "outputs": [],
   "source": [
    "date_prlvmt[\"dateprel\"] = pd.to_datetime(\n",
    "    date_prlvmt[\"dateprel\"], format=\"%d%b%Y:%H:%M:%S.%f\"\n",
    ")"
   ]
  },
  {
   "cell_type": "code",
   "execution_count": 37,
   "metadata": {},
   "outputs": [
    {
     "data": {
      "text/plain": [
       "dtype('<M8[us]')"
      ]
     },
     "execution_count": 37,
     "metadata": {},
     "output_type": "execute_result"
    }
   ],
   "source": [
    "date_prlvmt[\"dateprel\"].dtype"
   ]
  },
  {
   "cell_type": "code",
   "execution_count": 41,
   "metadata": {},
   "outputs": [
    {
     "data": {
      "text/html": [
       "<div>\n",
       "<style scoped>\n",
       "    .dataframe tbody tr th:only-of-type {\n",
       "        vertical-align: middle;\n",
       "    }\n",
       "\n",
       "    .dataframe tbody tr th {\n",
       "        vertical-align: top;\n",
       "    }\n",
       "\n",
       "    .dataframe thead th {\n",
       "        text-align: right;\n",
       "    }\n",
       "</style>\n",
       "<table border=\"1\" class=\"dataframe\">\n",
       "  <thead>\n",
       "    <tr style=\"text-align: right;\">\n",
       "      <th></th>\n",
       "      <th>dateprel</th>\n",
       "      <th>count</th>\n",
       "    </tr>\n",
       "  </thead>\n",
       "  <tbody>\n",
       "    <tr>\n",
       "      <th>0</th>\n",
       "      <td>2024-01-02</td>\n",
       "      <td>818</td>\n",
       "    </tr>\n",
       "    <tr>\n",
       "      <th>1</th>\n",
       "      <td>2024-01-03</td>\n",
       "      <td>1378</td>\n",
       "    </tr>\n",
       "    <tr>\n",
       "      <th>2</th>\n",
       "      <td>2024-01-04</td>\n",
       "      <td>1362</td>\n",
       "    </tr>\n",
       "    <tr>\n",
       "      <th>3</th>\n",
       "      <td>2024-01-05</td>\n",
       "      <td>887</td>\n",
       "    </tr>\n",
       "    <tr>\n",
       "      <th>4</th>\n",
       "      <td>2024-01-08</td>\n",
       "      <td>2087</td>\n",
       "    </tr>\n",
       "    <tr>\n",
       "      <th>...</th>\n",
       "      <td>...</td>\n",
       "      <td>...</td>\n",
       "    </tr>\n",
       "    <tr>\n",
       "      <th>264</th>\n",
       "      <td>2024-12-23</td>\n",
       "      <td>548</td>\n",
       "    </tr>\n",
       "    <tr>\n",
       "      <th>265</th>\n",
       "      <td>2024-12-24</td>\n",
       "      <td>177</td>\n",
       "    </tr>\n",
       "    <tr>\n",
       "      <th>266</th>\n",
       "      <td>2024-12-26</td>\n",
       "      <td>128</td>\n",
       "    </tr>\n",
       "    <tr>\n",
       "      <th>267</th>\n",
       "      <td>2024-12-27</td>\n",
       "      <td>88</td>\n",
       "    </tr>\n",
       "    <tr>\n",
       "      <th>268</th>\n",
       "      <td>2024-12-30</td>\n",
       "      <td>1</td>\n",
       "    </tr>\n",
       "  </tbody>\n",
       "</table>\n",
       "<p>269 rows × 2 columns</p>\n",
       "</div>"
      ],
      "text/plain": [
       "      dateprel  count\n",
       "0   2024-01-02    818\n",
       "1   2024-01-03   1378\n",
       "2   2024-01-04   1362\n",
       "3   2024-01-05    887\n",
       "4   2024-01-08   2087\n",
       "..         ...    ...\n",
       "264 2024-12-23    548\n",
       "265 2024-12-24    177\n",
       "266 2024-12-26    128\n",
       "267 2024-12-27     88\n",
       "268 2024-12-30      1\n",
       "\n",
       "[269 rows x 2 columns]"
      ]
     },
     "execution_count": 41,
     "metadata": {},
     "output_type": "execute_result"
    }
   ],
   "source": [
    "date_prlvmt"
   ]
  },
  {
   "cell_type": "code",
   "execution_count": null,
   "metadata": {},
   "outputs": [
    {
     "data": {
      "image/png": "[encoded data removed]",
      "text/plain": [
       "<Figure size 640x480 with 1 Axes>"
      ]
     },
     "metadata": {},
     "output_type": "display_data"
    }
   ],
   "source": [
    "date_prlvmt.plot(x=\"dateprel\", y=\"count\")\n",
    "plt.show()"
   ]
  }
 ],
 "metadata": {
  "kernelspec": {
   "display_name": ".venv",
   "language": "python",
   "name": "python3"
  },
  "language_info": {
   "codemirror_mode": {
    "name": "ipython",
    "version": 3
   },
   "file_extension": ".py",
   "mimetype": "text/x-python",
   "name": "python",
   "nbconvert_exporter": "python",
   "pygments_lexer": "ipython3",
   "version": "3.12.0"
  }
 },
 "nbformat": 4,
 "nbformat_minor": 2
}
