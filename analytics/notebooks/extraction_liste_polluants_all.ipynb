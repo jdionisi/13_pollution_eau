{
 "cells": [
  {
   "cell_type": "markdown",
   "metadata": {},
   "source": [
    "# Analyse des paramètres sur les années 2020 à 2024"
   ]
  },
  {
   "cell_type": "markdown",
   "metadata": {},
   "source": [
    "- faire l'analyse de quels paramètres ont été recherchés de 2020 à 2024\n",
    "- garder un découpage par année pour voir une éventuelle évolution\n",
    "- pourquoi pas regarder le nombre ou pourcentage de communes qui ont réalisé chaque analyse (pas prio)"
   ]
  },
  {
   "cell_type": "code",
   "execution_count": 10,
   "metadata": {},
   "outputs": [],
   "source": [
    "import pandas as pd\n",
    "\n",
    "pd.set_option(\"display.max_columns\", None)  # show all cols\n",
    "pd.set_option(\"display.max_colwidth\", None)  # show full width of showing cols\n",
    "pd.set_option(\n",
    "    \"display.expand_frame_repr\", False\n",
    ")  # print cols side by side as it's supposed to be"
   ]
  },
  {
   "cell_type": "code",
   "execution_count": 11,
   "metadata": {},
   "outputs": [],
   "source": [
    "# Nous commencons par importer les librairies nécessaires pour l'analyse des données.\n",
    "\n",
    "import duckdb\n",
    "from pipelines.tasks._common import DUCKDB_FILE\n",
    "\n",
    "con = duckdb.connect(database=DUCKDB_FILE, read_only=True)"
   ]
  },
  {
   "cell_type": "markdown",
   "metadata": {},
   "source": [
    "### Paramètres recherchés"
   ]
  },
  {
   "cell_type": "markdown",
   "metadata": {},
   "source": [
    "#### 1. Année 2024"
   ]
  },
  {
   "cell_type": "markdown",
   "metadata": {},
   "source": [
    "##### a. Création du dataframe avec le nombre de prélèvements par paramètre"
   ]
  },
  {
   "cell_type": "code",
   "execution_count": 12,
   "metadata": {},
   "outputs": [],
   "source": [
    "where_clause = \"\"\"\n",
    "\"dateprel\" >= '2024-01-01'\n",
    "\"\"\""
   ]
  },
  {
   "cell_type": "code",
   "execution_count": 13,
   "metadata": {},
   "outputs": [],
   "source": [
    "query_2024 = f\"\"\"\n",
    "SELECT \"edc_resultats\".libmajparametre, COUNT(\"edc_resultats\".libmajparametre) as count_param\n",
    "FROM (\n",
    "  SELECT\n",
    "    *\n",
    "  FROM \"edc_prelevements\" \n",
    "  WHERE\n",
    "    {where_clause}\n",
    ") AS edc_prelevements\n",
    "INNER JOIN \"edc_resultats\"\n",
    "  ON \"edc_prelevements\".\"referenceprel\" = \"edc_resultats\".\"referenceprel\"\n",
    "GROUP BY libmajparametre\n",
    "\"\"\"\n",
    "\n",
    "prelevements_2024 = con.sql(query_2024)\n",
    "prelevements_2024_df = prelevements_2024.df()"
   ]
  },
  {
   "cell_type": "code",
   "execution_count": 14,
   "metadata": {},
   "outputs": [
    {
     "data": {
      "text/html": [
       "<div>\n",
       "<style scoped>\n",
       "    .dataframe tbody tr th:only-of-type {\n",
       "        vertical-align: middle;\n",
       "    }\n",
       "\n",
       "    .dataframe tbody tr th {\n",
       "        vertical-align: top;\n",
       "    }\n",
       "\n",
       "    .dataframe thead th {\n",
       "        text-align: right;\n",
       "    }\n",
       "</style>\n",
       "<table border=\"1\" class=\"dataframe\">\n",
       "  <thead>\n",
       "    <tr style=\"text-align: right;\">\n",
       "      <th></th>\n",
       "      <th>libmajparametre</th>\n",
       "      <th>count_param</th>\n",
       "    </tr>\n",
       "  </thead>\n",
       "  <tbody>\n",
       "    <tr>\n",
       "      <th>0</th>\n",
       "      <td>CHLORE TOTAL</td>\n",
       "      <td>383201</td>\n",
       "    </tr>\n",
       "    <tr>\n",
       "      <th>1</th>\n",
       "      <td>PH</td>\n",
       "      <td>523108</td>\n",
       "    </tr>\n",
       "    <tr>\n",
       "      <th>2</th>\n",
       "      <td>BACT. ET SPORES SULFITO-RÉDU./100ML</td>\n",
       "      <td>242722</td>\n",
       "    </tr>\n",
       "    <tr>\n",
       "      <th>3</th>\n",
       "      <td>AMMONIUM (EN NH4)</td>\n",
       "      <td>362781</td>\n",
       "    </tr>\n",
       "    <tr>\n",
       "      <th>4</th>\n",
       "      <td>SAVEUR (QUALITATIF)</td>\n",
       "      <td>348343</td>\n",
       "    </tr>\n",
       "    <tr>\n",
       "      <th>5</th>\n",
       "      <td>ENTÉROCOQUES /100ML-MS</td>\n",
       "      <td>383486</td>\n",
       "    </tr>\n",
       "    <tr>\n",
       "      <th>6</th>\n",
       "      <td>TURBIDITÉ NÉPHÉLOMÉTRIQUE NFU</td>\n",
       "      <td>383193</td>\n",
       "    </tr>\n",
       "    <tr>\n",
       "      <th>7</th>\n",
       "      <td>ACÉNAPHTÈNE</td>\n",
       "      <td>3735</td>\n",
       "    </tr>\n",
       "    <tr>\n",
       "      <th>8</th>\n",
       "      <td>BENZO(A)PYRÈNE *</td>\n",
       "      <td>22462</td>\n",
       "    </tr>\n",
       "    <tr>\n",
       "      <th>9</th>\n",
       "      <td>BENZO(B)FLUORANTHÈNE</td>\n",
       "      <td>22460</td>\n",
       "    </tr>\n",
       "  </tbody>\n",
       "</table>\n",
       "</div>"
      ],
      "text/plain": [
       "                       libmajparametre  count_param\n",
       "0                         CHLORE TOTAL       383201\n",
       "1                                  PH        523108\n",
       "2  BACT. ET SPORES SULFITO-RÉDU./100ML       242722\n",
       "3                    AMMONIUM (EN NH4)       362781\n",
       "4                  SAVEUR (QUALITATIF)       348343\n",
       "5               ENTÉROCOQUES /100ML-MS       383486\n",
       "6        TURBIDITÉ NÉPHÉLOMÉTRIQUE NFU       383193\n",
       "7                          ACÉNAPHTÈNE         3735\n",
       "8                     BENZO(A)PYRÈNE *        22462\n",
       "9                 BENZO(B)FLUORANTHÈNE        22460"
      ]
     },
     "execution_count": 14,
     "metadata": {},
     "output_type": "execute_result"
    }
   ],
   "source": [
    "prelevements_2024_df.head(10)"
   ]
  },
  {
   "cell_type": "code",
   "execution_count": 15,
   "metadata": {},
   "outputs": [
    {
     "data": {
      "text/html": [
       "<div>\n",
       "<style scoped>\n",
       "    .dataframe tbody tr th:only-of-type {\n",
       "        vertical-align: middle;\n",
       "    }\n",
       "\n",
       "    .dataframe tbody tr th {\n",
       "        vertical-align: top;\n",
       "    }\n",
       "\n",
       "    .dataframe thead th {\n",
       "        text-align: right;\n",
       "    }\n",
       "</style>\n",
       "<table border=\"1\" class=\"dataframe\">\n",
       "  <thead>\n",
       "    <tr style=\"text-align: right;\">\n",
       "      <th></th>\n",
       "      <th>libmajparametre</th>\n",
       "      <th>count_param</th>\n",
       "    </tr>\n",
       "  </thead>\n",
       "  <tbody>\n",
       "    <tr>\n",
       "      <th>0</th>\n",
       "      <td>CHLORE TOTAL</td>\n",
       "      <td>383201</td>\n",
       "    </tr>\n",
       "    <tr>\n",
       "      <th>1</th>\n",
       "      <td>PH</td>\n",
       "      <td>523108</td>\n",
       "    </tr>\n",
       "    <tr>\n",
       "      <th>2</th>\n",
       "      <td>BACT. ET SPORES SULFITO-RÉDU./100ML</td>\n",
       "      <td>242722</td>\n",
       "    </tr>\n",
       "    <tr>\n",
       "      <th>3</th>\n",
       "      <td>AMMONIUM (EN NH4)</td>\n",
       "      <td>362781</td>\n",
       "    </tr>\n",
       "    <tr>\n",
       "      <th>4</th>\n",
       "      <td>SAVEUR (QUALITATIF)</td>\n",
       "      <td>348343</td>\n",
       "    </tr>\n",
       "    <tr>\n",
       "      <th>...</th>\n",
       "      <td>...</td>\n",
       "      <td>...</td>\n",
       "    </tr>\n",
       "    <tr>\n",
       "      <th>1332</th>\n",
       "      <td>ISOPENTANE</td>\n",
       "      <td>24</td>\n",
       "    </tr>\n",
       "    <tr>\n",
       "      <th>1333</th>\n",
       "      <td>TRICHLOROTRIFLUOROÉTHANE</td>\n",
       "      <td>13</td>\n",
       "    </tr>\n",
       "    <tr>\n",
       "      <th>1334</th>\n",
       "      <td>TETRACHLOROBENZÈNE-1,2,4,5</td>\n",
       "      <td>12</td>\n",
       "    </tr>\n",
       "    <tr>\n",
       "      <th>1335</th>\n",
       "      <td>TÉTRACHLOROBENZÈNE-1,2,3,5</td>\n",
       "      <td>12</td>\n",
       "    </tr>\n",
       "    <tr>\n",
       "      <th>1336</th>\n",
       "      <td>ACIDE CHLORODIBROMACÉTIQUE</td>\n",
       "      <td>1</td>\n",
       "    </tr>\n",
       "  </tbody>\n",
       "</table>\n",
       "<p>1337 rows × 2 columns</p>\n",
       "</div>"
      ],
      "text/plain": [
       "                          libmajparametre  count_param\n",
       "0                            CHLORE TOTAL       383201\n",
       "1                                     PH        523108\n",
       "2     BACT. ET SPORES SULFITO-RÉDU./100ML       242722\n",
       "3                       AMMONIUM (EN NH4)       362781\n",
       "4                     SAVEUR (QUALITATIF)       348343\n",
       "...                                   ...          ...\n",
       "1332                           ISOPENTANE           24\n",
       "1333             TRICHLOROTRIFLUOROÉTHANE           13\n",
       "1334           TETRACHLOROBENZÈNE-1,2,4,5           12\n",
       "1335           TÉTRACHLOROBENZÈNE-1,2,3,5           12\n",
       "1336           ACIDE CHLORODIBROMACÉTIQUE            1\n",
       "\n",
       "[1337 rows x 2 columns]"
      ]
     },
     "execution_count": 15,
     "metadata": {},
     "output_type": "execute_result"
    }
   ],
   "source": [
    "prelevements_2024_df"
   ]
  },
  {
   "cell_type": "markdown",
   "metadata": {},
   "source": [
    "Il y a 1 337 paramètres qui ont été testés en 2024."
   ]
  },
  {
   "cell_type": "markdown",
   "metadata": {},
   "source": [
    "##### b. Conversion en CSV"
   ]
  },
  {
   "cell_type": "code",
   "execution_count": 16,
   "metadata": {},
   "outputs": [],
   "source": [
    "prelevements_2024_csv = prelevements_2024_df.rename(\n",
    "    columns={\"libmajparametre\": \"PARAMETRE\", \"count_param\": \"NB PRELEVEMENTS\"}\n",
    ")\n",
    "prelevements_2024_csv.to_csv(\"liste_parametres_2024.csv\")"
   ]
  },
  {
   "cell_type": "markdown",
   "metadata": {},
   "source": [
    "#### 2. Année 2023"
   ]
  },
  {
   "cell_type": "markdown",
   "metadata": {},
   "source": [
    "#### 3. Année 2022"
   ]
  },
  {
   "cell_type": "markdown",
   "metadata": {},
   "source": [
    "#### 4. Année 2021"
   ]
  },
  {
   "cell_type": "markdown",
   "metadata": {},
   "source": [
    "#### 5. Année 2020"
   ]
  },
  {
   "cell_type": "markdown",
   "metadata": {},
   "source": [
    "### Communes qui ont réalisé les analyses"
   ]
  },
  {
   "cell_type": "markdown",
   "metadata": {},
   "source": [
    "#### 1. Année 2024"
   ]
  },
  {
   "cell_type": "code",
   "execution_count": 17,
   "metadata": {},
   "outputs": [],
   "source": [
    "where_clause = \"\"\"\n",
    "\"dateprel\" >= '2024-01-01'\n",
    "\"\"\""
   ]
  },
  {
   "cell_type": "code",
   "execution_count": 19,
   "metadata": {},
   "outputs": [],
   "source": [
    "query_2024 = f\"\"\"\n",
    "SELECT \"edc_prelevements\".cdreseau, \"edc_communes\".nomcommune, COUNT(\"edc_prelevements\".cdreseau) AS prelevement_par_udi\n",
    "FROM (\n",
    "  SELECT\n",
    "    *\n",
    "  FROM \"edc_prelevements\" \n",
    "  WHERE\n",
    "    {where_clause}\n",
    ") AS edc_prelevements\n",
    "INNER JOIN \"edc_communes\"\n",
    "  ON \"edc_prelevements\".\"cdreseau\" = \"edc_communes\".\"cdreseau\"\n",
    "GROUP BY \"edc_prelevements\".cdreseau, \"edc_communes\".nomcommune\n",
    "\"\"\"\n",
    "\n",
    "communes_2024 = con.sql(query_2024)\n",
    "communes_2024_df = communes_2024.df()"
   ]
  },
  {
   "cell_type": "code",
   "execution_count": 20,
   "metadata": {},
   "outputs": [
    {
     "data": {
      "text/html": [
       "<div>\n",
       "<style scoped>\n",
       "    .dataframe tbody tr th:only-of-type {\n",
       "        vertical-align: middle;\n",
       "    }\n",
       "\n",
       "    .dataframe tbody tr th {\n",
       "        vertical-align: top;\n",
       "    }\n",
       "\n",
       "    .dataframe thead th {\n",
       "        text-align: right;\n",
       "    }\n",
       "</style>\n",
       "<table border=\"1\" class=\"dataframe\">\n",
       "  <thead>\n",
       "    <tr style=\"text-align: right;\">\n",
       "      <th></th>\n",
       "      <th>cdreseau</th>\n",
       "      <th>nomcommune</th>\n",
       "      <th>prelevement_par_udi</th>\n",
       "    </tr>\n",
       "  </thead>\n",
       "  <tbody>\n",
       "    <tr>\n",
       "      <th>0</th>\n",
       "      <td>078000497</td>\n",
       "      <td>PORT-MARLY (LE)</td>\n",
       "      <td>83</td>\n",
       "    </tr>\n",
       "    <tr>\n",
       "      <th>1</th>\n",
       "      <td>078000502</td>\n",
       "      <td>TARTRE-GAUDRAN (LE)</td>\n",
       "      <td>33</td>\n",
       "    </tr>\n",
       "    <tr>\n",
       "      <th>2</th>\n",
       "      <td>078000510</td>\n",
       "      <td>ROCHEFORT-EN-YVELINES</td>\n",
       "      <td>14</td>\n",
       "    </tr>\n",
       "    <tr>\n",
       "      <th>3</th>\n",
       "      <td>078000517</td>\n",
       "      <td>SAINT-GERMAIN-EN-LAYE</td>\n",
       "      <td>226</td>\n",
       "    </tr>\n",
       "    <tr>\n",
       "      <th>4</th>\n",
       "      <td>078000526</td>\n",
       "      <td>SAINT-MARTIN-LA-GARENNE</td>\n",
       "      <td>31</td>\n",
       "    </tr>\n",
       "    <tr>\n",
       "      <th>...</th>\n",
       "      <td>...</td>\n",
       "      <td>...</td>\n",
       "      <td>...</td>\n",
       "    </tr>\n",
       "    <tr>\n",
       "      <th>46384</th>\n",
       "      <td>076000542</td>\n",
       "      <td>ANCOURTEVILLE-SUR-HERICOURT</td>\n",
       "      <td>38</td>\n",
       "    </tr>\n",
       "    <tr>\n",
       "      <th>46385</th>\n",
       "      <td>077001251</td>\n",
       "      <td>FRETOY</td>\n",
       "      <td>38</td>\n",
       "    </tr>\n",
       "    <tr>\n",
       "      <th>46386</th>\n",
       "      <td>077001251</td>\n",
       "      <td>CHOISY-EN-BRIE</td>\n",
       "      <td>38</td>\n",
       "    </tr>\n",
       "    <tr>\n",
       "      <th>46387</th>\n",
       "      <td>077002094</td>\n",
       "      <td>MAREUIL-LES-MEAUX</td>\n",
       "      <td>38</td>\n",
       "    </tr>\n",
       "    <tr>\n",
       "      <th>46388</th>\n",
       "      <td>077002094</td>\n",
       "      <td>ESBLY</td>\n",
       "      <td>38</td>\n",
       "    </tr>\n",
       "  </tbody>\n",
       "</table>\n",
       "<p>46389 rows × 3 columns</p>\n",
       "</div>"
      ],
      "text/plain": [
       "        cdreseau                   nomcommune  prelevement_par_udi\n",
       "0      078000497              PORT-MARLY (LE)                   83\n",
       "1      078000502          TARTRE-GAUDRAN (LE)                   33\n",
       "2      078000510        ROCHEFORT-EN-YVELINES                   14\n",
       "3      078000517        SAINT-GERMAIN-EN-LAYE                  226\n",
       "4      078000526      SAINT-MARTIN-LA-GARENNE                   31\n",
       "...          ...                          ...                  ...\n",
       "46384  076000542  ANCOURTEVILLE-SUR-HERICOURT                   38\n",
       "46385  077001251                       FRETOY                   38\n",
       "46386  077001251               CHOISY-EN-BRIE                   38\n",
       "46387  077002094            MAREUIL-LES-MEAUX                   38\n",
       "46388  077002094                        ESBLY                   38\n",
       "\n",
       "[46389 rows x 3 columns]"
      ]
     },
     "execution_count": 20,
     "metadata": {},
     "output_type": "execute_result"
    }
   ],
   "source": [
    "communes_2024_df"
   ]
  }
 ],
 "metadata": {
  "kernelspec": {
   "display_name": ".venv",
   "language": "python",
   "name": "python3"
  },
  "language_info": {
   "codemirror_mode": {
    "name": "ipython",
    "version": 3
   },
   "file_extension": ".py",
   "mimetype": "text/x-python",
   "name": "python",
   "nbconvert_exporter": "python",
   "pygments_lexer": "ipython3",
   "version": "3.12.0"
  }
 },
 "nbformat": 4,
 "nbformat_minor": 2
}
